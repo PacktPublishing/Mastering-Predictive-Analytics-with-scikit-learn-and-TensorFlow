{
 "cells": [
  {
   "cell_type": "code",
   "execution_count": 1,
   "metadata": {},
   "outputs": [
    {
     "name": "stderr",
     "output_type": "stream",
     "text": [
      "C:\\ProgramData\\Anaconda3\\lib\\site-packages\\h5py\\__init__.py:36: FutureWarning: Conversion of the second argument of issubdtype from `float` to `np.floating` is deprecated. In future, it will be treated as `np.float64 == np.dtype(float).type`.\n",
      "  from ._conv import register_converters as _register_converters\n"
     ]
    }
   ],
   "source": [
    "import tensorflow as tf\n",
    "import pandas as pd\n",
    "import numpy as np\n",
    "import matplotlib.pyplot as plt\n",
    "\n",
    "from sklearn.model_selection import train_test_split\n",
    "from tensorflow.contrib.layers import fully_connected\n",
    "\n",
    "%matplotlib inline"
   ]
  },
  {
   "cell_type": "code",
   "execution_count": 2,
   "metadata": {},
   "outputs": [],
   "source": [
    "data_path= '../data/diamonds.csv'\n",
    "diamonds = pd.read_csv(data_path)\n",
    "diamonds = pd.concat([diamonds, pd.get_dummies(diamonds['cut'], prefix='cut', drop_first=True)],axis=1)\n",
    "diamonds = pd.concat([diamonds, pd.get_dummies(diamonds['color'], prefix='color', drop_first=True)],axis=1)\n",
    "diamonds = pd.concat([diamonds, pd.get_dummies(diamonds['clarity'], prefix='clarity', drop_first=True)],axis=1)\n",
    "diamonds.drop(['cut','color','clarity'], axis=1, inplace=True)"
   ]
  },
  {
   "cell_type": "code",
   "execution_count": 3,
   "metadata": {},
   "outputs": [],
   "source": [
    "from sklearn.preprocessing import RobustScaler\n",
    "target_name = 'price'\n",
    "robust_scaler = RobustScaler()\n",
    "X = diamonds.drop('price', axis=1)\n",
    "X = robust_scaler.fit_transform(X)\n",
    "y = diamonds[target_name]\n",
    "X_train, X_test, y_train, y_test = train_test_split(X, y, test_size=0.1, random_state=123)"
   ]
  },
  {
   "cell_type": "code",
   "execution_count": 4,
   "metadata": {},
   "outputs": [],
   "source": [
    "n_epochs = 40\n",
    "batch_size = 50 "
   ]
  },
  {
   "cell_type": "code",
   "execution_count": 8,
   "metadata": {},
   "outputs": [],
   "source": [
    "X_placeholder = tf.placeholder(X_train.dtype, shape=X_train.shape)\n",
    "y_placeholder = tf.placeholder(y_train.dtype, shape=y_train.shape)\n",
    "\n",
    "dataset = tf.data.Dataset.from_tensor_slices((X_placeholder, y_placeholder))\n",
    "dataset = dataset.shuffle(buffer_size=10000)\n",
    "dataset = dataset.batch(batch_size)\n",
    "iterator = dataset.make_initializable_iterator()\n",
    "next_element = iterator.get_next()"
   ]
  },
  {
   "cell_type": "code",
   "execution_count": 9,
   "metadata": {},
   "outputs": [],
   "source": [
    "n_inputs = X_train.shape[1] #23\n",
    "n_hidden1 = 256\n",
    "n_hidden2 = 128 \n",
    "n_hidden3 = 64\n",
    "n_outputs = 1"
   ]
  },
  {
   "cell_type": "code",
   "execution_count": 10,
   "metadata": {},
   "outputs": [],
   "source": [
    "X = tf.placeholder(X_train.dtype, shape=[None,n_inputs])\n",
    "y = tf.placeholder(y_train.dtype)"
   ]
  },
  {
   "cell_type": "code",
   "execution_count": 11,
   "metadata": {},
   "outputs": [],
   "source": [
    "def DNN(X_values):\n",
    "    hidden1 = fully_connected(X_values, n_hidden1)\n",
    "    hidden2 = fully_connected(hidden1, n_hidden2)\n",
    "    hidden3 = fully_connected(hidden2, n_hidden3)\n",
    "    y_pred = fully_connected(hidden3, n_outputs, activation_fn=None)\n",
    "    return tf.squeeze(y_pred)"
   ]
  },
  {
   "cell_type": "code",
   "execution_count": 12,
   "metadata": {},
   "outputs": [],
   "source": [
    "y_pred = DNN(X)\n",
    "loss = tf.losses.mean_squared_error(labels=y, predictions=y_pred)"
   ]
  },
  {
   "cell_type": "code",
   "execution_count": 13,
   "metadata": {},
   "outputs": [],
   "source": [
    "optimizer = tf.train.AdamOptimizer()\n",
    "training_op = optimizer.minimize(loss)"
   ]
  },
  {
   "cell_type": "code",
   "execution_count": 14,
   "metadata": {},
   "outputs": [],
   "source": [
    "train_mse = np.zeros(n_epochs)\n",
    "test_mse = np.zeros(n_epochs)"
   ]
  },
  {
   "cell_type": "code",
   "execution_count": 15,
   "metadata": {},
   "outputs": [
    {
     "name": "stdout",
     "output_type": "stream",
     "text": [
      "=============EPOCH 1============\n",
      "Training MSE: 1487984.1\n",
      "Test MSE: 945861.3\n",
      "=============EPOCH 2============\n",
      "Training MSE: 1324591.0\n",
      "Test MSE: 763520.3\n",
      "=============EPOCH 3============\n",
      "Training MSE: 747295.4\n",
      "Test MSE: 692744.2\n",
      "=============EPOCH 4============\n",
      "Training MSE: 582598.2\n",
      "Test MSE: 648847.9\n",
      "=============EPOCH 5============\n",
      "Training MSE: 847241.3\n",
      "Test MSE: 617727.9\n",
      "=============EPOCH 6============\n",
      "Training MSE: 211087.8\n",
      "Test MSE: 577629.8\n",
      "=============EPOCH 7============\n",
      "Training MSE: 367640.2\n",
      "Test MSE: 548181.0\n",
      "=============EPOCH 8============\n",
      "Training MSE: 483493.8\n",
      "Test MSE: 523253.8\n",
      "=============EPOCH 9============\n",
      "Training MSE: 302357.0\n",
      "Test MSE: 505584.0\n",
      "=============EPOCH 10============\n",
      "Training MSE: 342172.7\n",
      "Test MSE: 507379.0\n",
      "=============EPOCH 11============\n",
      "Training MSE: 1254314.4\n",
      "Test MSE: 476300.2\n",
      "=============EPOCH 12============\n",
      "Training MSE: 195476.0\n",
      "Test MSE: 442623.9\n",
      "=============EPOCH 13============\n",
      "Training MSE: 477508.0\n",
      "Test MSE: 438999.5\n",
      "=============EPOCH 14============\n",
      "Training MSE: 124869.7\n",
      "Test MSE: 385081.8\n",
      "=============EPOCH 15============\n",
      "Training MSE: 444545.9\n",
      "Test MSE: 368407.5\n",
      "=============EPOCH 16============\n",
      "Training MSE: 328337.9\n",
      "Test MSE: 366264.3\n",
      "=============EPOCH 17============\n",
      "Training MSE: 807184.4\n",
      "Test MSE: 358864.5\n",
      "=============EPOCH 18============\n",
      "Training MSE: 167651.5\n",
      "Test MSE: 371034.2\n",
      "=============EPOCH 19============\n",
      "Training MSE: 75244.9\n",
      "Test MSE: 343739.2\n",
      "=============EPOCH 20============\n",
      "Training MSE: 177522.0\n",
      "Test MSE: 357843.2\n",
      "=============EPOCH 21============\n",
      "Training MSE: 134178.9\n",
      "Test MSE: 333310.1\n",
      "=============EPOCH 22============\n",
      "Training MSE: 693235.1\n",
      "Test MSE: 389745.8\n",
      "=============EPOCH 23============\n",
      "Training MSE: 348209.8\n",
      "Test MSE: 350836.6\n",
      "=============EPOCH 24============\n",
      "Training MSE: 537273.1\n",
      "Test MSE: 327322.0\n",
      "=============EPOCH 25============\n",
      "Training MSE: 333005.0\n",
      "Test MSE: 324670.0\n",
      "=============EPOCH 26============\n",
      "Training MSE: 177162.7\n",
      "Test MSE: 325339.2\n",
      "=============EPOCH 27============\n",
      "Training MSE: 231358.8\n",
      "Test MSE: 333246.4\n",
      "=============EPOCH 28============\n",
      "Training MSE: 160658.5\n",
      "Test MSE: 338067.7\n",
      "=============EPOCH 29============\n",
      "Training MSE: 242078.7\n",
      "Test MSE: 328448.4\n",
      "=============EPOCH 30============\n",
      "Training MSE: 328923.1\n",
      "Test MSE: 323193.2\n",
      "=============EPOCH 31============\n",
      "Training MSE: 278034.0\n",
      "Test MSE: 319835.2\n",
      "=============EPOCH 32============\n",
      "Training MSE: 145970.8\n",
      "Test MSE: 353418.9\n",
      "=============EPOCH 33============\n",
      "Training MSE: 669556.2\n",
      "Test MSE: 328455.8\n",
      "=============EPOCH 34============\n",
      "Training MSE: 200460.8\n",
      "Test MSE: 327063.5\n",
      "=============EPOCH 35============\n",
      "Training MSE: 78837.0\n",
      "Test MSE: 313145.1\n",
      "=============EPOCH 36============\n",
      "Training MSE: 93631.8\n",
      "Test MSE: 350252.7\n",
      "=============EPOCH 37============\n",
      "Training MSE: 170409.5\n",
      "Test MSE: 330680.8\n",
      "=============EPOCH 38============\n",
      "Training MSE: 272994.2\n",
      "Test MSE: 346417.5\n",
      "=============EPOCH 39============\n",
      "Training MSE: 326620.7\n",
      "Test MSE: 319943.7\n",
      "=============EPOCH 40============\n",
      "Training MSE: 232014.9\n",
      "Test MSE: 305352.8\n",
      "Done Trainning\n",
      "\n",
      "=====================\n",
      "\n",
      "Using the network to make individual predictions\n",
      "Actual | Predicted\n",
      "=====================\n",
      "     802   |   750.0\n",
      "     935   |   915.0\n",
      "    5826   |  6157.0\n",
      "     935   |  1090.0\n",
      "    2817   |  3244.0\n",
      "     855   |   741.0\n",
      "    2846   |  2881.0\n",
      "     926   |   984.0\n",
      "   15962   | 15517.0\n",
      "    5445   |  5554.0\n",
      "    2550   |  2328.0\n",
      "    6221   |  5496.0\n",
      "     544   |   562.0\n",
      "    1122   |  1082.0\n",
      "    1367   |  1502.0\n",
      "    4077   |  3812.0\n",
      "    2144   |  1937.0\n",
      "    2960   |  2712.0\n",
      "    7131   |  7560.0\n",
      "    1221   |  1386.0\n",
      "    4563   |  5442.0\n",
      "    3830   |  3568.0\n",
      "    1137   |  1269.0\n",
      "    1361   |  1372.0\n",
      "    4641   |  4617.0\n",
      "Correlation:  0.9954414006558564\n"
     ]
    }
   ],
   "source": [
    "with tf.Session() as sess:\n",
    "    tf.global_variables_initializer().run()\n",
    "    for epoch in range(n_epochs):\n",
    "        sess.run(iterator.initializer, feed_dict={X_placeholder: X_train, y_placeholder: y_train})\n",
    "        while True:\n",
    "            try:\n",
    "                batch_data = sess.run(next_element)\n",
    "                X_batch = batch_data[0]\n",
    "                y_batch = batch_data[1]\n",
    "                sess.run(training_op, feed_dict={X: X_batch, y:y_batch})\n",
    "            except tf.errors.OutOfRangeError:\n",
    "                break\n",
    "        print(\"=============EPOCH {}============\".format(epoch+1))\n",
    "        train_mse[epoch] = loss.eval(feed_dict={X:X_batch, y:y_batch})\n",
    "        test_mse[epoch] = loss.eval(feed_dict={X:X_test, y:y_test})\n",
    "        print('Training MSE:', round(train_mse[epoch],1))\n",
    "        print('Test MSE:', round(test_mse[epoch],1))\n",
    "    print(\"Done Trainning\")\n",
    "    \n",
    "    ## Producing individual predictions\n",
    "    print(\"\\n=====================\\n\")\n",
    "    print(\"Using the network to make individual predictions\")\n",
    "    n_pred = 25\n",
    "    y_obs = y_test[:n_pred]\n",
    "    y_predicted = y_pred.eval(feed_dict={X:X_test[:n_pred,]})\n",
    "    print(\"Actual | Predicted\")\n",
    "    print(\"=====================\") \n",
    "    for obs, pred in zip(y_obs, y_predicted):\n",
    "        print(\"{: >8}   |{: >8}\".format(round(obs), round(pred)))\n",
    "    print(\"Correlation: \", np.corrcoef(y_obs, y_predicted)[0,1])"
   ]
  },
  {
   "cell_type": "code",
   "execution_count": 16,
   "metadata": {},
   "outputs": [
    {
     "data": {
      "image/png": "[encoded data removed]",
      "text/plain": [
       "<Figure size 576x432 with 1 Axes>"
      ]
     },
     "metadata": {},
     "output_type": "display_data"
    }
   ],
   "source": [
    "fig, ax = plt.subplots(figsize=(8,6))\n",
    "ax.plot(train_mse, label='Train MSE')\n",
    "ax.plot(test_mse, label='Test MSE')\n",
    "ax.legend()\n",
    "ax.grid()"
   ]
  },
  {
   "cell_type": "code",
   "execution_count": null,
   "metadata": {},
   "outputs": [],
   "source": []
  }
 ],
 "metadata": {
  "kernelspec": {
   "display_name": "Python 3",
   "language": "python",
   "name": "python3"
  },
  "language_info": {
   "codemirror_mode": {
    "name": "ipython",
    "version": 3
   },
   "file_extension": ".py",
   "mimetype": "text/x-python",
   "name": "python",
   "nbconvert_exporter": "python",
   "pygments_lexer": "ipython3",
   "version": "3.6.5"
  }
 },
 "nbformat": 4,
 "nbformat_minor": 2
}
