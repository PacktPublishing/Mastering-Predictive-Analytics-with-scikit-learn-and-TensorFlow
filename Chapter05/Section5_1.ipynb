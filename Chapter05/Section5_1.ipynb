{
 "cells": [
  {
   "cell_type": "code",
   "execution_count": 1,
   "metadata": {},
   "outputs": [
    {
     "name": "stderr",
     "output_type": "stream",
     "text": [
      "C:\\ProgramData\\Anaconda3\\lib\\site-packages\\h5py\\__init__.py:36: FutureWarning: Conversion of the second argument of issubdtype from `float` to `np.floating` is deprecated. In future, it will be treated as `np.float64 == np.dtype(float).type`.\n",
      "  from ._conv import register_converters as _register_converters\n"
     ]
    }
   ],
   "source": [
    "import tensorflow as tf\n",
    "import numpy as np\n",
    "import matplotlib.pyplot as plt\n",
    "\n",
    "from tensorflow.contrib.layers import fully_connected\n",
    "\n",
    "%matplotlib inline"
   ]
  },
  {
   "cell_type": "code",
   "execution_count": 2,
   "metadata": {},
   "outputs": [],
   "source": [
    "vector = np.arange(-5,5,0.1)\n",
    "def relu(x):\n",
    "    return max(0.,x)\n",
    "relu = np.vectorize(relu)"
   ]
  },
  {
   "cell_type": "code",
   "execution_count": 3,
   "metadata": {},
   "outputs": [
    {
     "data": {
      "image/png": "[encoded data removed]",
      "text/plain": [
       "<Figure size 432x288 with 1 Axes>"
      ]
     },
     "metadata": {},
     "output_type": "display_data"
    }
   ],
   "source": [
    "vector = np.arange(-5,5,0.1)\n",
    "plt.plot(vector, relu(vector))\n",
    "plt.grid()\n",
    "plt.title(\"ReLU activation function\");"
   ]
  },
  {
   "cell_type": "code",
   "execution_count": 4,
   "metadata": {},
   "outputs": [
    {
     "name": "stdout",
     "output_type": "stream",
     "text": [
      "WARNING:tensorflow:From <ipython-input-4-281cfb583252>:2: read_data_sets (from tensorflow.contrib.learn.python.learn.datasets.mnist) is deprecated and will be removed in a future version.\n",
      "Instructions for updating:\n",
      "Please use alternatives such as official/mnist/dataset.py from tensorflow/models.\n",
      "WARNING:tensorflow:From C:\\ProgramData\\Anaconda3\\lib\\site-packages\\tensorflow\\contrib\\learn\\python\\learn\\datasets\\mnist.py:260: maybe_download (from tensorflow.contrib.learn.python.learn.datasets.base) is deprecated and will be removed in a future version.\n",
      "Instructions for updating:\n",
      "Please write your own downloading logic.\n",
      "WARNING:tensorflow:From C:\\ProgramData\\Anaconda3\\lib\\site-packages\\tensorflow\\contrib\\learn\\python\\learn\\datasets\\base.py:252: _internal_retry.<locals>.wrap.<locals>.wrapped_fn (from tensorflow.contrib.learn.python.learn.datasets.base) is deprecated and will be removed in a future version.\n",
      "Instructions for updating:\n",
      "Please use urllib or similar directly.\n",
      "Successfully downloaded train-images-idx3-ubyte.gz 9912422 bytes.\n",
      "WARNING:tensorflow:From C:\\ProgramData\\Anaconda3\\lib\\site-packages\\tensorflow\\contrib\\learn\\python\\learn\\datasets\\mnist.py:262: extract_images (from tensorflow.contrib.learn.python.learn.datasets.mnist) is deprecated and will be removed in a future version.\n",
      "Instructions for updating:\n",
      "Please use tf.data to implement this functionality.\n",
      "Extracting ./data/train-images-idx3-ubyte.gz\n",
      "Successfully downloaded train-labels-idx1-ubyte.gz 28881 bytes.\n",
      "WARNING:tensorflow:From C:\\ProgramData\\Anaconda3\\lib\\site-packages\\tensorflow\\contrib\\learn\\python\\learn\\datasets\\mnist.py:267: extract_labels (from tensorflow.contrib.learn.python.learn.datasets.mnist) is deprecated and will be removed in a future version.\n",
      "Instructions for updating:\n",
      "Please use tf.data to implement this functionality.\n",
      "Extracting ./data/train-labels-idx1-ubyte.gz\n",
      "Successfully downloaded t10k-images-idx3-ubyte.gz 1648877 bytes.\n",
      "Extracting ./data/t10k-images-idx3-ubyte.gz\n",
      "Successfully downloaded t10k-labels-idx1-ubyte.gz 4542 bytes.\n",
      "Extracting ./data/t10k-labels-idx1-ubyte.gz\n",
      "WARNING:tensorflow:From C:\\ProgramData\\Anaconda3\\lib\\site-packages\\tensorflow\\contrib\\learn\\python\\learn\\datasets\\mnist.py:290: DataSet.__init__ (from tensorflow.contrib.learn.python.learn.datasets.mnist) is deprecated and will be removed in a future version.\n",
      "Instructions for updating:\n",
      "Please use alternatives such as official/mnist/dataset.py from tensorflow/models.\n"
     ]
    }
   ],
   "source": [
    "from tensorflow.examples.tutorials.mnist import input_data\n",
    "mnist = input_data.read_data_sets(\"./data/\")"
   ]
  },
  {
   "cell_type": "code",
   "execution_count": 5,
   "metadata": {},
   "outputs": [],
   "source": [
    "n_inputs = 28*28 \n",
    "n_hidden1 = 350\n",
    "n_hidden2 = 200 \n",
    "n_hidden3 = 100\n",
    "n_outputs = 10"
   ]
  },
  {
   "cell_type": "code",
   "execution_count": 6,
   "metadata": {},
   "outputs": [],
   "source": [
    "# input layer \n",
    "X = tf.placeholder(tf.float32, shape=[None, n_inputs])\n",
    "# target values\n",
    "y = tf.placeholder(tf.int64)"
   ]
  },
  {
   "cell_type": "code",
   "execution_count": 7,
   "metadata": {},
   "outputs": [],
   "source": [
    "hidden1 = fully_connected(X, n_hidden1)\n",
    "hidden2 = fully_connected(hidden1, n_hidden2)\n",
    "hidden3 = fully_connected(hidden2, n_hidden3)\n",
    "logits = fully_connected(hidden3, n_outputs, activation_fn=None)"
   ]
  },
  {
   "cell_type": "code",
   "execution_count": 8,
   "metadata": {},
   "outputs": [],
   "source": [
    "cross_entropy = tf.nn.sparse_softmax_cross_entropy_with_logits(\n",
    "                   labels=y, logits=logits)\n",
    "loss = tf.reduce_mean(cross_entropy)"
   ]
  },
  {
   "cell_type": "code",
   "execution_count": 9,
   "metadata": {},
   "outputs": [],
   "source": [
    "learning_rate = 0.01\n",
    "optimizer = tf.train.GradientDescentOptimizer(learning_rate)\n",
    "training_op = optimizer.minimize(loss)"
   ]
  },
  {
   "cell_type": "code",
   "execution_count": 10,
   "metadata": {},
   "outputs": [],
   "source": [
    "correct = tf.nn.in_top_k(predictions=logits, targets=y, k=1)\n",
    "accuracy = tf.reduce_mean(tf.cast(correct, tf.float32))"
   ]
  },
  {
   "cell_type": "code",
   "execution_count": 11,
   "metadata": {},
   "outputs": [],
   "source": [
    "n_epochs = 20\n",
    "batch_size = 80"
   ]
  },
  {
   "cell_type": "code",
   "execution_count": 12,
   "metadata": {},
   "outputs": [
    {
     "name": "stdout",
     "output_type": "stream",
     "text": [
      "======= Epoch: 1 ========\n",
      "Train accuracy: 0.825 | Test accuracy: 0.8943\n",
      "--------------------------------------------------\n",
      "======= Epoch: 2 ========\n",
      "Train accuracy: 0.8875 | Test accuracy: 0.9142\n",
      "--------------------------------------------------\n",
      "======= Epoch: 3 ========\n",
      "Train accuracy: 0.9375 | Test accuracy: 0.925\n",
      "--------------------------------------------------\n",
      "======= Epoch: 4 ========\n",
      "Train accuracy: 0.9625 | Test accuracy: 0.9329\n",
      "--------------------------------------------------\n",
      "======= Epoch: 5 ========\n",
      "Train accuracy: 0.9125 | Test accuracy: 0.939\n",
      "--------------------------------------------------\n",
      "======= Epoch: 6 ========\n",
      "Train accuracy: 0.9875 | Test accuracy: 0.9448\n",
      "--------------------------------------------------\n",
      "======= Epoch: 7 ========\n",
      "Train accuracy: 0.975 | Test accuracy: 0.9475\n",
      "--------------------------------------------------\n",
      "======= Epoch: 8 ========\n",
      "Train accuracy: 0.975 | Test accuracy: 0.9512\n",
      "--------------------------------------------------\n",
      "======= Epoch: 9 ========\n",
      "Train accuracy: 0.9375 | Test accuracy: 0.9559\n",
      "--------------------------------------------------\n",
      "======= Epoch: 10 ========\n",
      "Train accuracy: 0.975 | Test accuracy: 0.9532\n",
      "--------------------------------------------------\n",
      "======= Epoch: 11 ========\n",
      "Train accuracy: 0.925 | Test accuracy: 0.9597\n",
      "--------------------------------------------------\n",
      "======= Epoch: 12 ========\n",
      "Train accuracy: 0.9375 | Test accuracy: 0.9608\n",
      "--------------------------------------------------\n",
      "======= Epoch: 13 ========\n",
      "Train accuracy: 0.975 | Test accuracy: 0.9622\n",
      "--------------------------------------------------\n",
      "======= Epoch: 14 ========\n",
      "Train accuracy: 0.975 | Test accuracy: 0.9648\n",
      "--------------------------------------------------\n",
      "======= Epoch: 15 ========\n",
      "Train accuracy: 0.95 | Test accuracy: 0.9653\n",
      "--------------------------------------------------\n",
      "======= Epoch: 16 ========\n",
      "Train accuracy: 0.9875 | Test accuracy: 0.9665\n",
      "--------------------------------------------------\n",
      "======= Epoch: 17 ========\n",
      "Train accuracy: 0.9375 | Test accuracy: 0.9654\n",
      "--------------------------------------------------\n",
      "======= Epoch: 18 ========\n",
      "Train accuracy: 0.975 | Test accuracy: 0.968\n",
      "--------------------------------------------------\n",
      "======= Epoch: 19 ========\n",
      "Train accuracy: 0.975 | Test accuracy: 0.9697\n",
      "--------------------------------------------------\n",
      "======= Epoch: 20 ========\n",
      "Train accuracy: 1.0 | Test accuracy: 0.9699\n",
      "--------------------------------------------------\n",
      "Done Trainning!\n",
      "\n",
      "=====================\n",
      "\n",
      "Using the network to make individual predictions\n",
      "Actual | Predicted\n",
      "=====================\n",
      "   7   |     7\n",
      "   2   |     2\n",
      "   1   |     1\n",
      "   0   |     0\n",
      "   4   |     4\n",
      "   1   |     1\n",
      "   4   |     4\n",
      "   9   |     9\n",
      "   5   |     6\n",
      "   9   |     9\n",
      "   0   |     0\n",
      "   6   |     6\n",
      "   9   |     9\n",
      "   0   |     0\n",
      "   1   |     1\n"
     ]
    }
   ],
   "source": [
    "with tf.Session() as sess:\n",
    "    ## Initializing the variables\n",
    "    tf.global_variables_initializer().run()\n",
    "    for epoch in range(n_epochs):\n",
    "        for iteration in range(mnist.train.num_examples // batch_size):\n",
    "            X_batch, y_batch = mnist.train.next_batch(batch_size)\n",
    "            sess.run(training_op, feed_dict={X: X_batch, y: y_batch})\n",
    "        acc_train = accuracy.eval(feed_dict={X: X_batch, y: y_batch})\n",
    "        acc_test = accuracy.eval(feed_dict={X: mnist.test.images, y: mnist.test.labels})\n",
    "        print(\"======= Epoch: {} ========\".format(epoch+1))\n",
    "        print(\"Train accuracy:\", acc_train, \"| Test accuracy:\", acc_test)\n",
    "        print(50*\"-\")\n",
    "    print(\"Done Trainning!\")\n",
    "\n",
    "    ## Producing individual predictions\n",
    "    print(\"\\n=====================\\n\")\n",
    "    print(\"Using the network to make individual predictions\")\n",
    "    n_pred = 15\n",
    "    X_new = mnist.test.images[:n_pred]\n",
    "    Z = logits.eval(feed_dict={X: X_new})\n",
    "    y_pred = np.argmax(Z, axis=1)\n",
    "    print(\"Actual | Predicted\")\n",
    "    print(\"=====================\")\n",
    "    for obs, pred in zip(mnist.test.labels[:n_pred], y_pred):\n",
    "        print(\"{: >4}   |{: >6}\".format(obs, pred))\n"
   ]
  },
  {
   "cell_type": "code",
   "execution_count": null,
   "metadata": {},
   "outputs": [],
   "source": []
  }
 ],
 "metadata": {
  "kernelspec": {
   "display_name": "Python 3",
   "language": "python",
   "name": "python3"
  },
  "language_info": {
   "codemirror_mode": {
    "name": "ipython",
    "version": 3
   },
   "file_extension": ".py",
   "mimetype": "text/x-python",
   "name": "python",
   "nbconvert_exporter": "python",
   "pygments_lexer": "ipython3",
   "version": "3.6.5"
  }
 },
 "nbformat": 4,
 "nbformat_minor": 2
}
